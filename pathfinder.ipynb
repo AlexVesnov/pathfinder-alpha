{
 "cells": [
  {
   "cell_type": "code",
   "execution_count": 1,
   "metadata": {},
   "outputs": [
    {
     "name": "stdout",
     "output_type": "stream",
     "text": [
      "[(0, 2), (8, 3), (2, 5), (5, 2), (6, 6)]\n",
      "[(8, 3), (6, 6), (5, 2), (2, 5), (0, 2)]\n"
     ]
    }
   ],
   "source": [
    "# Точки.\n",
    "p0 = (0, 2)\n",
    "p1 = (2, 5)\n",
    "p2 = (5, 2) \n",
    "p3 = (6, 6)\n",
    "p4 = (8, 3)\n",
    "\n",
    "# Test. Можно добавлять любое количество \"неотрицательных\" точек, однако, алгорим требует доработки, чтобы работать с отрицательными значениями X и Y.\n",
    "# p5 = (10, 4)\n",
    "# p6 = (1, 1)\n",
    "# p7 = (8, 2)\n",
    "\n",
    "# Делаем список точек.\n",
    "list_xy = [p0, p4, p1, p2, p3]\n",
    "# list_xy = [p0, p4, p1, p2, p3, p5, p6]\n",
    "\n",
    "print(list_xy) \n",
    "print(sorted(list_xy, reverse=True))"
   ]
  },
  {
   "cell_type": "code",
   "execution_count": 2,
   "metadata": {},
   "outputs": [],
   "source": [
    "# Ищем центр масс облака точек.\n",
    "\n",
    "# xc = ( p1[0] + p2[0] + p3[0] + p4[0] ) / 4\n",
    "# yc = ( p1[1] + p2[1] + p3[1] + p4[1] ) / 4\n",
    "\n",
    "counter = 0\n",
    "x_center = 0\n",
    "y_center = 0\n",
    "\n",
    "for k in list_xy:\n",
    "    x_center += k[0]\n",
    "    y_center += k[1]\n",
    "    counter += 1\n",
    "\n",
    "xc = x_center / counter\n",
    "yc = y_center / counter\n",
    "\n",
    "c = (xc, yc)"
   ]
  },
  {
   "cell_type": "code",
   "execution_count": 3,
   "metadata": {},
   "outputs": [],
   "source": [
    "# Находим уравнение медианы через центр масс и точку отправления.\n",
    "\n",
    "def y_mid(x):\n",
    "    ym = ((x - p0[0])/(c[0] - p0[0])) * (c[1] - p0[1]) + p0[1]\n",
    "    return ym"
   ]
  },
  {
   "cell_type": "code",
   "execution_count": 4,
   "metadata": {},
   "outputs": [
    {
     "name": "stdout",
     "output_type": "stream",
     "text": [
      "#1 (5, 2) distance = 5.0. Total = 5.0\n",
      "#2 (8, 3) distance = 3.1622776601683795. Total = 8.16227766016838\n"
     ]
    }
   ],
   "source": [
    "# Обходим точки вдоль медианы справа. Итерируемся по возрастающему Х.\n",
    "\n",
    "i0 = p0\n",
    "order = 0\n",
    "sum = 0\n",
    "list_xy.sort()\n",
    "for i in list_xy:\n",
    "    if i[1] < y_mid(i[0]):\n",
    "        distance = ((i[0] - i0[0]) ** 2 + (i[1] - i0[1]) ** 2) ** 0.5\n",
    "        sum += distance\n",
    "        order += 1\n",
    "        i0 = (i[0], i[1])\n",
    "        print(f\"#{order} {i0} distance = {distance}. Total = {sum}\")\n",
    "\n",
    "# Доходим до последней точки справа, разворачиваемся и идём вдоль медианы обратно слева.\n",
    "# list_xy.sort(reverse=True)\n",
    "# for i in list_xy:\n",
    "#     if i[1] >= y_mid(i[0]):\n",
    "#         distance = ((i[0] - i0[0]) ** 2 + (i[1] - i0[1]) ** 2) ** 0.5\n",
    "#         sum += distance\n",
    "#         order += 1\n",
    "#         i0 = (i[0], i[1])\n",
    "#         print(f\"#{order} {i0} distance = {distance}. Total = {sum}\")"
   ]
  },
  {
   "cell_type": "markdown",
   "metadata": {},
   "source": [
    "Для наглядности оставлю циклы раздельно"
   ]
  },
  {
   "cell_type": "code",
   "execution_count": 5,
   "metadata": {},
   "outputs": [
    {
     "name": "stdout",
     "output_type": "stream",
     "text": [
      "#3 (6, 6) distance = 3.605551275463989. Total = 11.76782893563237\n",
      "#4 (2, 5) distance = 4.123105625617661. Total = 15.890934561250031\n",
      "#5 (0, 2) distance = 3.605551275463989. Total = 19.49648583671402\n"
     ]
    }
   ],
   "source": [
    "# Доходим до последней точки справа, разворачиваемся и идём вдоль медианы обратно слева.\n",
    "list_xy.sort(reverse=True)\n",
    "for i in list_xy:\n",
    "    if i[1] >= y_mid(i[0]):\n",
    "        distance = ((i[0] - i0[0]) ** 2 + (i[1] - i0[1]) ** 2) ** 0.5\n",
    "        sum += distance\n",
    "        order += 1\n",
    "        i0 = (i[0], i[1])\n",
    "        print(f\"#{order} {i0} distance = {distance}. Total = {sum}\")"
   ]
  }
 ],
 "metadata": {
  "interpreter": {
   "hash": "aee8b7b246df8f9039afb4144a1f6fd8d2ca17a180786b69acc140d282b71a49"
  },
  "kernelspec": {
   "display_name": "Python 3.9.7 64-bit",
   "language": "python",
   "name": "python3"
  },
  "language_info": {
   "codemirror_mode": {
    "name": "ipython",
    "version": 3
   },
   "file_extension": ".py",
   "mimetype": "text/x-python",
   "name": "python",
   "nbconvert_exporter": "python",
   "pygments_lexer": "ipython3",
   "version": "3.9.7"
  },
  "orig_nbformat": 4
 },
 "nbformat": 4,
 "nbformat_minor": 2
}
